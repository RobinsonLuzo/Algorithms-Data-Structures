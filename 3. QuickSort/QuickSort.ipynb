{
 "cells": [
  {
   "cell_type": "markdown",
   "metadata": {},
   "source": [
    "## Quicksort\n",
    "\n",
    "Like Mergesort, Quicksort is a divide-and-conquer algorithm. Designed in 1959 by British Computer Scientist Tony Hoare the method came about from his efforts at the [National Physical Laboratory](https://en.wikipedia.org/wiki/National_Physical_Laboratory_(United_Kingdom)). He was working on a [Russian-English translation system](https://books.google.ie/books?id=-GW8lOYl3AAC&pg=PA8&lpg=PA8&dq=1959+russian+english+translation+national+physics+lab&source=bl&ots=OBL0xDu3dx&sig=ACfU3U2y-kMZI2m-odiURfRSjsjSlmQ0cg&hl=en&sa=X&ved=2ahUKEwieg-7Rs5_pAhWUonEKHWPGBQ8Q6AEwA3oECAgQAQ#v=onepage&q=1959%20russian%20english%20translation%20national%20physics%20lab&f=false) \n",
    "that needed to sort words in Russian, before looking them up in an already sorted English-Russian dictionary stored on tape. \n",
    "\n",
    "It remains probably the most commonly used sorting algorithm - including being standard in C and Unix.\n",
    "\n",
    "Quicksort can be broadly summarised in 3 points:\n",
    "1. Pick an element, called a *pivot*, from the array.\n",
    "2. Re-order the array so that all the elements with values less than the pivot come before the pivot. All those that are higher come after. The pivot is now in its final position - this is called *partitioning*.\n",
    "3. Recursively apply this to the sub-array elements with smaller values and seperately to the sub-array of larger values.\n",
    "\n",
    "There is no master method for picking a pivot point. It can be the first or last element, a random element or the median. Convention frequently picks the last element as the pivot - as can be seen in the example and code below.\n",
    "\n",
    "![quickSort](https://raw.githubusercontent.com/RobinsonLuzo/Algorithms-Data-Structures/master/img/Quicksort-image.png)\n",
    "\n",
    "Seen in operation:\n",
    "\n",
    "![quickSortGif](https://raw.githubusercontent.com/RobinsonLuzo/Algorithms-Data-Structures/master/img/Sorting-quicksort-gif.gif)\n",
    "\n",
    "[Animation Source](https://en.wikipedia.org/wiki/File:Sorting_quicksort_anim.gif)\n",
    "\n",
    "The Python code uses 2 functions. \n",
    "1. A partition that takes the last element of the array as the pivot and moves all smaller items to the left. \n",
    "2. quickSort() itself - this establishes the intial partition then recursively calls quicksort on the left then the right elements"
   ]
  },
  {
   "cell_type": "code",
   "execution_count": 4,
   "metadata": {},
   "outputs": [
    {
     "name": "stdout",
     "output_type": "stream",
     "text": [
      "[-4, 7, 12, 18, 22, 31, 42, 58]\n"
     ]
    }
   ],
   "source": [
    "# quickSort.py\n",
    "\n",
    "def quickSort(array, start, end):\n",
    "    if start < end:\n",
    "        # pi is \"partitioning index\"\n",
    "        pi = partition(array, start, end)\n",
    "        \n",
    "        # Elements are seperately sorted, leftmost first then right\n",
    "        quickSort(array, start, pi - 1)\n",
    "        quickSort(array, pi + 1, end)\n",
    "\n",
    "        \n",
    "def partition(array, start, end):\n",
    "    \"\"\" For this implementation the last element is the pivot \"\"\"\n",
    "    indx = (start - 1)\n",
    "    pivot = array[end]\n",
    "    \n",
    "    for elem in range(start, end):\n",
    "        # If element in that place is less than the pivot, swap positions with pivot\n",
    "        if array[elem] <= pivot:\n",
    "            indx += 1\n",
    "            array[indx], array[elem] = array[elem], array[indx]\n",
    "            \n",
    "    array[indx + 1], array[end] = array[end], array[indx + 1]\n",
    "    return (indx + 1)\n",
    "\n",
    "\n",
    "\"\"\" Test case \"\"\"\n",
    "a = [22, 18, 12, -4, 58, 7, 31, 42]\n",
    "n = len(a)\n",
    "quickSort(a, 0, n - 1)\n",
    "print(a)"
   ]
  }
 ],
 "metadata": {
  "kernelspec": {
   "display_name": "Python 3",
   "language": "python",
   "name": "python3"
  },
  "language_info": {
   "codemirror_mode": {
    "name": "ipython",
    "version": 3
   },
   "file_extension": ".py",
   "mimetype": "text/x-python",
   "name": "python",
   "nbconvert_exporter": "python",
   "pygments_lexer": "ipython3",
   "version": "3.7.6"
  }
 },
 "nbformat": 4,
 "nbformat_minor": 4
}
