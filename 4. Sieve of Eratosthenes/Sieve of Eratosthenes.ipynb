{
 "cells": [
  {
   "attachments": {},
   "cell_type": "markdown",
   "metadata": {},
   "source": [
    "## Sieve of Eratosthenes\n",
    "\n",
    "A rather older algorithm than the others in this set. The [Sieve of Eratosthenes](https://en.wikipedia.org/wiki/Sieve_of_Eratosthenes) is an ancient Greek method created by the mathematician [Eratosthenes](https://en.wikipedia.org/wiki/Eratosthenes) for finding all prime numbers up to a given number.\n",
    "\n",
    "This method works by looking at the first prime number (2). It then disregards any number that can be found as a result of going from that prime squared to n in stages of the prime number. In the case of 2, we would start at 4 and move in stages of 2 to mark 4, 6, 8, 10 etc as not prime numbers. We would then add one to our prime number, now 3, and, provided it isn't already noted on our list of numbers we landed on, would note 6, 9, 12 etc as not prime. As our next increment of p is 4 and this has been marked \"not prime\" by our earlier effort with p=2, we can skip this and go on again until we find a number that is not \"marked\". Once we reach *n* we should have a list of all those numbers which are prime.\n",
    "\n",
    "We can see this graphically in the image below. The first batch of \"not prime\" numbers derived from p=2 are shown in red. Then when p=3 they are shown in green etc.\n",
    "\n",
    "One downside to the algorithm is that it presumes a small number *n* for the limit to find primes. Anything large takes quite a considerable aount of time. The O notation of this is: *O(n log log n)*.\n",
    "\n",
    "![Sieve_of_Eratosthenes_animation](img/Sieve_of_Eratosthenes_animation.gif)\n",
    "\n",
    "[Wikipedia](https://en.wikipedia.org/wiki/File:Sieve_of_Eratosthenes_animation.gif)"
   ]
  },
  {
   "cell_type": "code",
   "execution_count": 19,
   "metadata": {},
   "outputs": [
    {
     "name": "stdout",
     "output_type": "stream",
     "text": [
      "2\n",
      "3\n",
      "5\n",
      "7\n",
      "11\n",
      "13\n",
      "17\n",
      "19\n",
      "23\n",
      "29\n"
     ]
    }
   ],
   "source": [
    "# sieve_of_eratosthenes.py\n",
    "\n",
    "def sieveOfEratosthenes(n):\n",
    "    \"\"\" Start by creating a list of all numbers up to n. This is set as True by default.\n",
    "    The first prime number is 2; so this is the starting point of the algorithm.\n",
    "    \n",
    "    Starting from 2, the inner loop will iterate through from 4 to n + 1 with the interval of 2. \n",
    "    With each stop, in this initial case (4, 6, 8, 10, 12, ... n), it will turn the number it lands on false\n",
    "    as these are not primes.\n",
    "    Once it has accomplished this it will incremented p by 1 and begin again, checking to see if this number is True.\n",
    "    If it is, under Eratosthenes's algorithm, it is a prime number, and multiples derived form it are not prime.\n",
    "    \n",
    "    If you are struggling to make sense of this, try following the algorithm with the interactive graph above. \n",
    "    p=2 goes to (4, 6, 8, 10, 12, ... n) in increments of 2, p=3 goes to (6, 9, 12, 15,... n) in increments of 3\n",
    "    p=4 has been set to false by p=2 so it doesn't get evaluated. p=5 goes to (10, 15, 20, ...n) in increments of 5.\n",
    "    p=6 has been set negative by p=3 -> get the idea?\n",
    "    \n",
    "    \"\"\"\n",
    "    \n",
    "    primes = [True for number in range(n + 1)]\n",
    "    p = 2\n",
    "    \n",
    "    while (p * p <= n): \n",
    "          \n",
    "        # If primes[p] is not changed, then it is a prime \n",
    "        if (primes[p] == True): \n",
    "              \n",
    "            # Update all multiples of p \n",
    "            for i in range(p * 2, n + 1, p): \n",
    "                primes[i] = False\n",
    "        p += 1\n",
    "    \n",
    "    # As 2 is the first prime, set 0 and 1 to false\n",
    "    primes[0]= False\n",
    "    primes[1]= False\n",
    "    # Print all prime numbers \n",
    "\n",
    "    for p in range(n + 1): \n",
    "        if primes[p]: \n",
    "            print(p)\n",
    "            \n",
    "n = 30\n",
    "sieveOfEratosthenes(n)"
   ]
  }
 ],
 "metadata": {
  "kernelspec": {
   "display_name": "Python 3",
   "language": "python",
   "name": "python3"
  },
  "language_info": {
   "codemirror_mode": {
    "name": "ipython",
    "version": 3
   },
   "file_extension": ".py",
   "mimetype": "text/x-python",
   "name": "python",
   "nbconvert_exporter": "python",
   "pygments_lexer": "ipython3",
   "version": "3.7.6"
  }
 },
 "nbformat": 4,
 "nbformat_minor": 4
}
